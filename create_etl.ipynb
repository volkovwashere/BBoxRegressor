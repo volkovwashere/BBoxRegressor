{
 "metadata": {
  "language_info": {
   "codemirror_mode": {
    "name": "ipython",
    "version": 3
   },
   "file_extension": ".py",
   "mimetype": "text/x-python",
   "name": "python",
   "nbconvert_exporter": "python",
   "pygments_lexer": "ipython3",
   "version": "3.7.7-final"
  },
  "orig_nbformat": 2,
  "kernelspec": {
   "name": "Python 3.7.7 64-bit ('deep_learning': conda)",
   "display_name": "Python 3.7.7 64-bit ('deep_learning': conda)",
   "metadata": {
    "interpreter": {
     "hash": "8277c4497ec5ba7d6314982d6cc981d386d2f2b92a732db8e35c7edb9898c80e"
    }
   }
  }
 },
 "nbformat": 4,
 "nbformat_minor": 2,
 "cells": [
  {
   "cell_type": "code",
   "execution_count": 100,
   "metadata": {},
   "outputs": [],
   "source": [
    "import pandas as pd\n",
    "import torch\n",
    "import os\n",
    "import cv2\n",
    "from torchvision import transforms, datasets\n",
    "import json\n",
    "import numpy as np"
   ]
  },
  {
   "cell_type": "code",
   "execution_count": 74,
   "metadata": {},
   "outputs": [],
   "source": [
    "img = cv2.imread('data/attacks/00000_input_img.png')"
   ]
  },
  {
   "cell_type": "code",
   "execution_count": 19,
   "metadata": {},
   "outputs": [
    {
     "output_type": "execute_result",
     "data": {
      "text/plain": [
       "torch.Size([32, 32, 3])"
      ]
     },
     "metadata": {},
     "execution_count": 19
    }
   ],
   "source": [
    "imgT = torch.from_numpy(img)\n",
    "imgT.shape"
   ]
  },
  {
   "cell_type": "code",
   "execution_count": 99,
   "metadata": {},
   "outputs": [
    {
     "output_type": "stream",
     "name": "stdout",
     "text": [
      "Original dist: tensor([0.0025, 0.0025, 0.0045, 0.0046, 0.0035, 0.0030, 0.9721, 0.0023, 0.0025,\n        0.0025], device='cuda:0', grad_fn=<SelectBackward>)\n\n"
     ]
    }
   ],
   "source": [
    "with open('data/attacks/00000_params.txt') as f:\n",
    "    current_list = f.readlines()\n",
    "    print(current_list[2]+current_list[3])"
   ]
  },
  {
   "cell_type": "code",
   "execution_count": 108,
   "metadata": {},
   "outputs": [],
   "source": [
    "def extractData(step: int, filepath: str, outfilepath: str, isImage: bool) -> None:\n",
    "    imgs = os.listdir(filepath)\n",
    "    imgs.sort()\n",
    "\n",
    "    for idx, filename in enumerate(imgs):\n",
    "        if (idx - step) % 3 == 0 and isImage:\n",
    "            img = cv2.imread(filepath + '/' + filename)\n",
    "            cv2.imwrite(outfilepath + '/' + filename, img)\n",
    "        ##majd jon a txt\n",
    "\n",
    "    print('finished...')\n"
   ]
  },
  {
   "cell_type": "code",
   "execution_count": 109,
   "metadata": {},
   "outputs": [
    {
     "output_type": "stream",
     "name": "stdout",
     "text": [
      "finished...\n"
     ]
    }
   ],
   "source": [
    "extractData(0, 'data/attacks', 'data/training', True)"
   ]
  },
  {
   "cell_type": "code",
   "execution_count": 34,
   "metadata": {},
   "outputs": [],
   "source": [
    "preprocess = transforms.Compose([\n",
    "    transforms.ToTensor()\n",
    "])"
   ]
  },
  {
   "cell_type": "code",
   "execution_count": 142,
   "metadata": {},
   "outputs": [],
   "source": [
    "def createImageDataset(path: str):\n",
    "    imgs = os.listdir(path)\n",
    "    imgs.sort()#sorting images so they will be in the right order, not necessary\n",
    "\n",
    "    data = list()\n",
    "\n",
    "    for filename in imgs:\n",
    "        img = cv2.imread(path + '/' + filename)\n",
    "        data.append(img)\n",
    "    \n",
    "    data = np.array(data) #convert list to np array\n",
    "    data = torch.from_numpy(data).type(torch.FloatTensor) #convert np array to tensor\n",
    "\n",
    "\n",
    "    return data"
   ]
  },
  {
   "cell_type": "code",
   "execution_count": 140,
   "metadata": {},
   "outputs": [],
   "source": [
    "data = createImageDataset('data/training')"
   ]
  },
  {
   "cell_type": "code",
   "execution_count": 141,
   "metadata": {},
   "outputs": [
    {
     "output_type": "execute_result",
     "data": {
      "text/plain": [
       "tensor([[[ 59.,  62.,  63.],\n",
       "         [ 43.,  46.,  45.],\n",
       "         [ 50.,  48.,  43.],\n",
       "         ...,\n",
       "         [158., 132., 108.],\n",
       "         [152., 125., 102.],\n",
       "         [148., 124., 103.]],\n",
       "\n",
       "        [[ 16.,  20.,  20.],\n",
       "         [  0.,   0.,   0.],\n",
       "         [ 18.,   8.,   0.],\n",
       "         ...,\n",
       "         [123.,  88.,  55.],\n",
       "         [119.,  83.,  50.],\n",
       "         [122.,  87.,  57.]],\n",
       "\n",
       "        [[ 25.,  24.,  21.],\n",
       "         [ 16.,   7.,   0.],\n",
       "         [ 49.,  27.,   8.],\n",
       "         ...,\n",
       "         [118.,  84.,  50.],\n",
       "         [120.,  84.,  50.],\n",
       "         [109.,  73.,  42.]],\n",
       "\n",
       "        ...,\n",
       "\n",
       "        [[208., 170.,  96.],\n",
       "         [201., 153.,  34.],\n",
       "         [198., 161.,  26.],\n",
       "         ...,\n",
       "         [160., 133.,  70.],\n",
       "         [ 56.,  31.,   7.],\n",
       "         [ 53.,  34.,  20.]],\n",
       "\n",
       "        [[180., 139.,  96.],\n",
       "         [173., 123.,  42.],\n",
       "         [186., 144.,  30.],\n",
       "         ...,\n",
       "         [184., 148.,  94.],\n",
       "         [ 97.,  62.,  34.],\n",
       "         [ 83.,  53.,  34.]],\n",
       "\n",
       "        [[177., 144., 116.],\n",
       "         [168., 129.,  94.],\n",
       "         [179., 142.,  87.],\n",
       "         ...,\n",
       "         [216., 184., 140.],\n",
       "         [151., 118.,  84.],\n",
       "         [123.,  92.,  72.]]], dtype=torch.float64)"
      ]
     },
     "metadata": {},
     "execution_count": 141
    }
   ],
   "source": [
    "#data = data.permute(3, 1, 2, 0)\n",
    "data[0]"
   ]
  },
  {
   "cell_type": "code",
   "execution_count": null,
   "metadata": {},
   "outputs": [],
   "source": []
  }
 ]
}