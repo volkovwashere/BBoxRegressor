{
 "metadata": {
  "language_info": {
   "codemirror_mode": {
    "name": "ipython",
    "version": 3
   },
   "file_extension": ".py",
   "mimetype": "text/x-python",
   "name": "python",
   "nbconvert_exporter": "python",
   "pygments_lexer": "ipython3",
   "version": "3.7.7-final"
  },
  "orig_nbformat": 2,
  "kernelspec": {
   "name": "python3",
   "display_name": "Python 3.7.7 64-bit ('deep_learning': conda)",
   "metadata": {
    "interpreter": {
     "hash": "8277c4497ec5ba7d6314982d6cc981d386d2f2b92a732db8e35c7edb9898c80e"
    }
   }
  }
 },
 "nbformat": 4,
 "nbformat_minor": 2,
 "cells": [
  {
   "cell_type": "code",
   "execution_count": 1,
   "metadata": {},
   "outputs": [],
   "source": [
    "import torch\n",
    "import numpy as np\n",
    "import pandas as pd\n",
    "import torch.nn as nn\n",
    "import torch.optim as optim\n",
    "import torch.nn.functional as F\n",
    "import cv2\n",
    "from cifar10_models import mobilenetv2"
   ]
  },
  {
   "cell_type": "code",
   "execution_count": 2,
   "metadata": {},
   "outputs": [],
   "source": [
    "\n",
    "Net = mobilenetv2.mobilenet_v2(pretrained=True)"
   ]
  },
  {
   "cell_type": "code",
   "execution_count": 13,
   "metadata": {},
   "outputs": [],
   "source": [
    "for param in Net.parameters():\n",
    "    param.requires_grad = False"
   ]
  },
  {
   "cell_type": "code",
   "execution_count": 16,
   "metadata": {},
   "outputs": [],
   "source": [
    "class RegressionModel(nn.Module):\n",
    "    def __init__(self, pretrainedModel):\n",
    "        super().__init__()\n",
    "        self.features = pretrainedModel.features\n",
    "        \n",
    "        self.flatten = nn.Flatten()\n",
    "        \n",
    "        self.Dense1 = nn.Linear(20480, 32)\n",
    "\n",
    "        self.outLayer1 = nn.Linear(32, 4)\n",
    "        self.outLayer2 = nn.Linear(32, 4)\n",
    "        self.outLayer3 = nn.Linear(32, 4)\n",
    "        self.outLayer4 = nn.Linear(32, 4)\n",
    "    \n",
    "    def forward(self, x):\n",
    "        x = self.features(x)\n",
    "        x = self.Dense1(self.flatten(x))\n",
    "\n",
    "        out1 = self.outLayer1(x)\n",
    "        out2 = self.outLayer2(x)\n",
    "        out3 = self.outLayer3(x)\n",
    "        out4 = self.outLayer4(x)\n",
    "\n",
    "        return out1, out2, out3, out4\n"
   ]
  },
  {
   "cell_type": "code",
   "execution_count": 17,
   "metadata": {},
   "outputs": [],
   "source": [
    "newModel = RegressionModel(Net)"
   ]
  },
  {
   "cell_type": "code",
   "execution_count": 34,
   "metadata": {},
   "outputs": [],
   "source": [
    "class Model(nn.Module):\n",
    "    def __init__(self):\n",
    "        super().__init__()\n",
    "        self.Layer1 = nn.Conv2d(3, 16, kernel_size=3, padding=1)\n",
    "\n",
    "        self.Layer2 = nn.Conv2d(16, 32, kernel_size=3, padding=1)\n",
    "    \n",
    "        self.Flatten = nn.Flatten()\n",
    "\n",
    "        self.Dense1 = nn.Linear(2048, 32)\n",
    "\n",
    "        self.outLayer1 = nn.Linear(32, 4)\n",
    "        self.outLayer2 = nn.Linear(32, 4)\n",
    "        self.outLayer3 = nn.Linear(32, 4)\n",
    "        self.outLayer4 = nn.Linear(32, 4)\n",
    "\n",
    "    def forward(self, x):\n",
    "        out = F.max_pool2d(torch.relu(self.Layer1(x)), 2)\n",
    "        out = F.max_pool2d(torch.relu(self.Layer2(out)), 2)\n",
    "        out = self.Flatten(out)\n",
    "        out = torch.relu(self.Dense1(out))\n",
    "        \n",
    "        out1 = self.outLayer1(out)\n",
    "        out2 = self.outLayer2(out)\n",
    "        out3 = self.outLayer3(out)\n",
    "        out4 = self.outLayer4(out)\n",
    "        return out1, out2, out3, out4"
   ]
  },
  {
   "cell_type": "code",
   "execution_count": 40,
   "metadata": {},
   "outputs": [],
   "source": [
    "model = Model()"
   ]
  },
  {
   "cell_type": "code",
   "execution_count": 10,
   "metadata": {},
   "outputs": [
    {
     "output_type": "execute_result",
     "data": {
      "text/plain": [
       "torch.Size([32, 32, 3])"
      ]
     },
     "metadata": {},
     "execution_count": 10
    }
   ],
   "source": [
    "img = cv2.imread('data/attacks/00000_input_img.png')\n",
    "imgT = torch.tensor(img)\n",
    "imgT.shape"
   ]
  },
  {
   "cell_type": "code",
   "execution_count": 11,
   "metadata": {},
   "outputs": [],
   "source": [
    "imgT = imgT.view(3, 32 , 32)\n",
    "imgT = torch.unsqueeze(imgT, 0).float()"
   ]
  },
  {
   "cell_type": "code",
   "execution_count": 32,
   "metadata": {},
   "outputs": [
    {
     "output_type": "execute_result",
     "data": {
      "text/plain": [
       "torch.float32"
      ]
     },
     "metadata": {},
     "execution_count": 32
    }
   ],
   "source": [
    "imgT.dtype"
   ]
  },
  {
   "cell_type": "code",
   "execution_count": 18,
   "metadata": {},
   "outputs": [
    {
     "output_type": "stream",
     "name": "stdout",
     "text": [
      "False\nTrue\nTrue\n"
     ]
    },
    {
     "output_type": "execute_result",
     "data": {
      "text/plain": [
       "(tensor([[-0.0662, -0.1314,  0.1177,  0.1573]], grad_fn=<AddmmBackward>),\n",
       " tensor([[ 0.1317, -0.0049,  0.0881,  0.1280]], grad_fn=<AddmmBackward>),\n",
       " tensor([[-0.1416, -0.0165,  0.1029,  0.0024]], grad_fn=<AddmmBackward>),\n",
       " tensor([[0.1285, 0.0106, 0.1514, 0.1382]], grad_fn=<AddmmBackward>))"
      ]
     },
     "metadata": {},
     "execution_count": 18
    }
   ],
   "source": [
    "newModel.forward(imgT)"
   ]
  },
  {
   "cell_type": "code",
   "execution_count": 41,
   "metadata": {},
   "outputs": [
    {
     "output_type": "execute_result",
     "data": {
      "text/plain": [
       "(tensor([[-5.8843, -5.0632, -2.5045,  0.7898]], grad_fn=<AddmmBackward>),\n",
       " tensor([[ 1.2375, -5.6838,  1.5965,  5.8334]], grad_fn=<AddmmBackward>),\n",
       " tensor([[ 6.7813, -6.6644,  3.2673,  7.8263]], grad_fn=<AddmmBackward>),\n",
       " tensor([[4.1131, 2.7572, 3.8784, 2.2712]], grad_fn=<AddmmBackward>))"
      ]
     },
     "metadata": {},
     "execution_count": 41
    }
   ],
   "source": [
    "model.forward(imgT)"
   ]
  },
  {
   "cell_type": "code",
   "execution_count": null,
   "metadata": {},
   "outputs": [],
   "source": []
  }
 ]
}